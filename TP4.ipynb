{
 "cells": [
  {
   "cell_type": "markdown",
   "metadata": {},
   "source": [
    "<img src=\"Brain_Gratitude.jpg\n",
    "\" style=\"float: left; margin-right: 3px;\" > "
   ]
  },
  {
   "cell_type": "markdown",
   "metadata": {},
   "source": [
    "<div align=\"right\"><h4><left><strong><span style=\"color:black\"> \"Determiner la cause et pas les symptômes.\"- chiraz GUESMI</span></strong></left></h4></div>"
   ]
  },
  {
   "cell_type": "markdown",
   "metadata": {},
   "source": [
    "# <center>TP4 Systeme d'equations linéaires </center>\n",
    "<span style='color:blue'>Réalisé par :</span>**Chiraz GUESMI** éleve ingénieur  en 2éme année téléinformatique \n",
    "<BR><span style='color:blue'>Sous la supervision de :</span> **Dr. Khemais ABDALLAH**"
   ]
  },
  {
   "cell_type": "markdown",
   "metadata": {},
   "source": [
    "---------------------------------------------------------------------------------------------------------------------------\n",
    "\n",
    "\n",
    "<img src=\"isitcom.png\" style=\"float: left; margin-right: 3px;\" > \n",
    "<img src=\"universiteDeSousse.png\" style=\"float: right; margin-right: 3px;\" >"
   ]
  },
  {
   "cell_type": "markdown",
   "metadata": {},
   "source": [
    "<h2> Objectif :</h2>\n",
    "<h2> Principes:</h2>\n"
   ]
  },
  {
   "cell_type": "code",
   "execution_count": 1,
   "metadata": {},
   "outputs": [],
   "source": [
    "import numpy as np\n"
   ]
  },
  {
   "cell_type": "code",
   "execution_count": 3,
   "metadata": {},
   "outputs": [],
   "source": [
    "def affiche(M):\n",
    "    for i in range (len(M)):\n",
    "        print(M[i])"
   ]
  },
  {
   "cell_type": "code",
   "execution_count": 4,
   "metadata": {},
   "outputs": [],
   "source": [
    "def remonter(M):\n",
    "    n=len(M)\n",
    "    X=[0]*n\n",
    "    X[n-1]=M[n-1][n]/M[n-1][n-1]\n",
    "    for i in range(n-2,-1,-1):\n",
    "        X[i]=M[i][n]\n",
    "        for j in range (i+1,n):\n",
    "            X[i]=X[i]-M[i][j]*X[j]\n",
    "        X[i]=X[i]/M[i][i]\n",
    "    return(X)"
   ]
  },
  {
   "cell_type": "code",
   "execution_count": 5,
   "metadata": {},
   "outputs": [],
   "source": [
    "def transposition(M,L1,L2):\n",
    "    X=M[L1]\n",
    "    M[L1]=M[L2]\n",
    "    M[L2]=X"
   ]
  },
  {
   "cell_type": "code",
   "execution_count": 6,
   "metadata": {},
   "outputs": [],
   "source": [
    "def transvection (M,L1,L2,k):\n",
    "    for j in range(0,len(M)+1):\n",
    "        M[L2][j]=M[L2][j]+k*M[L1][j]\n",
    "    "
   ]
  },
  {
   "cell_type": "code",
   "execution_count": 7,
   "metadata": {},
   "outputs": [],
   "source": [
    "def lignePivotMax(M,c):\n",
    "    max=M[c][c]\n",
    "    indiceMax=c\n",
    "    for i in range (c,len(M)):\n",
    "        if M[i][c]>max:\n",
    "            max=M[i][c]\n",
    "            indiceMax=i\n",
    "    return (indiceMax)"
   ]
  },
  {
   "cell_type": "code",
   "execution_count": 8,
   "metadata": {},
   "outputs": [],
   "source": [
    "def triangulariser(M):\n",
    "    for j in range(0,len(M)-1):\n",
    "        numLignePivot=lignePivotMax(M,j)\n",
    "        transposition(M,j,numLignePivot)\n",
    "        for i in range(j+1,len(M)):\n",
    "            transvection(M,j,i,-M[i][j]/M[j][j])\n",
    "    return(M)\n"
   ]
  },
  {
   "cell_type": "code",
   "execution_count": 9,
   "metadata": {},
   "outputs": [],
   "source": [
    "def pivotGauss(M):\n",
    "    M=triangulariser(M)\n",
    "    X=remonter(M)\n",
    "    return(X)"
   ]
  },
  {
   "cell_type": "code",
   "execution_count": 10,
   "metadata": {},
   "outputs": [
    {
     "name": "stdout",
     "output_type": "stream",
     "text": [
      "Saisir la taille de votre Matrice A: 3\n",
      "m[0][0]=1\n",
      "m[0][1]=2\n",
      "m[0][2]=3\n",
      "m[0][3]=4\n",
      "m[1][0]=-1\n",
      "m[1][1]=2\n",
      "m[1][2]=4\n",
      "m[1][3]=3\n",
      "m[2][0]=1\n",
      "m[2][1]=5\n",
      "m[2][2]=2\n",
      "m[2][3]=3\n",
      "[1. 2. 3. 4.]\n",
      "[-1.  2.  4.  3.]\n",
      "[1. 5. 2. 3.]\n"
     ]
    }
   ],
   "source": [
    "n = int(input('Saisir la taille de votre Matrice A: '))\n",
    "m = np.zeros((n,n+1))\n",
    "\n",
    "for i in range(n):\n",
    "    for j in range(n+1):\n",
    "        m[i][j] = float(input( 'm['+str(i)+']['+ str(j)+']='))\n",
    "\n",
    "affiche(m)\n"
   ]
  },
  {
   "cell_type": "code",
   "execution_count": 12,
   "metadata": {},
   "outputs": [
    {
     "data": {
      "text/plain": [
       "[1.0, 0.0, 1.0]"
      ]
     },
     "execution_count": 12,
     "metadata": {},
     "output_type": "execute_result"
    }
   ],
   "source": [
    "pivotGauss(m)"
   ]
  },
  {
   "cell_type": "code",
   "execution_count": 18,
   "metadata": {},
   "outputs": [],
   "source": [
    "def determinant(A):\n",
    "    n = len(A)\n",
    "    det = 1\n",
    "    for k in range(0,n-1):\n",
    "        u = A[k][k]\n",
    "        det *= u\n",
    "    return (det)"
   ]
  },
  {
   "cell_type": "code",
   "execution_count": 19,
   "metadata": {},
   "outputs": [
    {
     "data": {
      "text/plain": [
       "4.0"
      ]
     },
     "execution_count": 19,
     "metadata": {},
     "output_type": "execute_result"
    }
   ],
   "source": [
    "determinant(m)"
   ]
  },
  {
   "cell_type": "markdown",
   "metadata": {},
   "source": [
    " <h3> Conclusion </h3>"
   ]
  },
  {
   "cell_type": "code",
   "execution_count": null,
   "metadata": {},
   "outputs": [],
   "source": []
  }
 ],
 "metadata": {
  "kernelspec": {
   "display_name": "Python 3",
   "language": "python",
   "name": "python3"
  },
  "language_info": {
   "codemirror_mode": {
    "name": "ipython",
    "version": 3
   },
   "file_extension": ".py",
   "mimetype": "text/x-python",
   "name": "python",
   "nbconvert_exporter": "python",
   "pygments_lexer": "ipython3",
   "version": "3.8.3"
  }
 },
 "nbformat": 4,
 "nbformat_minor": 4
}
